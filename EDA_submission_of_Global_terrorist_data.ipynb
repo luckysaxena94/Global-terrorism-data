{
  "nbformat": 4,
  "nbformat_minor": 0,
  "metadata": {
    "colab": {
      "private_outputs": true,
      "provenance": [],
      "collapsed_sections": [
        "gIfDvo9L0UH2"
      ],
      "include_colab_link": true
    },
    "kernelspec": {
      "name": "python3",
      "display_name": "Python 3"
    },
    "language_info": {
      "name": "python"
    }
  },
  "cells": [
    {
      "cell_type": "markdown",
      "metadata": {
        "id": "view-in-github",
        "colab_type": "text"
      },
      "source": [
        "<a href=\"https://colab.research.google.com/github/luckysaxena94/Global-terrorism-data/blob/main/EDA_submission_of_Global_terrorist_data.ipynb\" target=\"_parent\"><img src=\"https://colab.research.google.com/assets/colab-badge.svg\" alt=\"Open In Colab\"/></a>"
      ]
    },
    {
      "cell_type": "markdown",
      "source": [
        "# **Project Name**    -Global Terrorism\n",
        "\n",
        "\n",
        "\n"
      ],
      "metadata": {
        "id": "vncDsAP0Gaoa"
      }
    },
    {
      "cell_type": "markdown",
      "source": [
        "##### **Project Type**    - EDA/Regression/Classification/Unsupervised\n",
        "##### **Contribution**    - Team\n",
        "##### **Team Member 1 -** Lucky Saxena\n",
        "##### **Team Member 2 -** Aditya Raj\n",
        "##### **Team Member 3 -** Abhisek swain\n",
        "##### **Team Member 4 -** Swarup sunil mane\n",
        "##### **Team Member 5 -** Talari venkatesh"
      ],
      "metadata": {
        "id": "beRrZCGUAJYm"
      }
    },
    {
      "cell_type": "markdown",
      "source": [
        "# **Project Summary -**"
      ],
      "metadata": {
        "id": "FJNUwmbgGyua"
      }
    },
    {
      "cell_type": "markdown",
      "source": [
        "The \"Exploring and Analyzing Global Terrorism Trends\" project delves into the vast and comprehensive Global Terrorism Database (GTD) spanning from 1970 to 2017. This open-source repository, meticulously curated by the National Consortium for the Study of Terrorism and Responses to Terrorism (START) at the University of Maryland, contains a staggering record of over 180,000 terrorist incidents worldwide. The project's primary objective is to extract invaluable insights, patterns, and trends from this extensive dataset to enhance our understanding of global terrorism and contribute to better counter-terrorism strategies."
      ],
      "metadata": {
        "id": "F6v_1wHtG2nS"
      }
    },
    {
      "cell_type": "markdown",
      "source": [
        "# **GitHub Link -**"
      ],
      "metadata": {
        "id": "w6K7xa23Elo4"
      }
    },
    {
      "cell_type": "markdown",
      "source": [
        "Provide your GitHub Link here."
      ],
      "metadata": {
        "id": "h1o69JH3Eqqn"
      }
    },
    {
      "cell_type": "markdown",
      "source": [
        "# **Problem Statement**\n"
      ],
      "metadata": {
        "id": "yQaldy8SH6Dl"
      }
    },
    {
      "cell_type": "markdown",
      "source": [
        "\n",
        "Terrorism is a global threat that demands rigorous analysis and understanding to develop effective counter-terrorism strategies. The Global Terrorism Database (GTD), spanning from 1970 to 2017, is a vast and meticulously curated resource containing records of over 180,000 terrorist incidents worldwide. However, this wealth of data remains underutilized, and there exists a pressing need to extract actionable insights from it.\n"
      ],
      "metadata": {
        "id": "DpeJGUA3kjGy"
      }
    },
    {
      "cell_type": "markdown",
      "source": [
        "#### **Define Your Business Objective?**"
      ],
      "metadata": {
        "id": "PH-0ReGfmX4f"
      }
    },
    {
      "cell_type": "markdown",
      "source": [
        "The business objective is to leverage the GTD's data to extract actionable insights that support efforts to counter terrorism comprehensively, efficiently, and effectively, ultimately contributing to improved security and safety on a global scale."
      ],
      "metadata": {
        "id": "PhDvGCAqmjP1"
      }
    },
    {
      "cell_type": "markdown",
      "source": [
        "# **General Guidelines** : -  "
      ],
      "metadata": {
        "id": "mDgbUHAGgjLW"
      }
    },
    {
      "cell_type": "markdown",
      "source": [
        "1.   Well-structured, formatted, and commented code is required.\n",
        "2.   Exception Handling, Production Grade Code & Deployment Ready Code will be a plus. Those students will be awarded some additional credits.\n",
        "     \n",
        "     The additional credits will have advantages over other students during Star Student selection.\n",
        "       \n",
        "             [ Note: - Deployment Ready Code is defined as, the whole .ipynb notebook should be executable in one go\n",
        "                       without a single error logged. ]\n",
        "\n",
        "3.   Each and every logic should have proper comments.\n",
        "4. You may add as many number of charts you want. Make Sure for each and every chart the following format should be answered.\n",
        "        \n",
        "\n",
        "```\n",
        "# Chart visualization code\n",
        "```\n",
        "            \n",
        "\n",
        "*   Why did you pick the specific chart?\n",
        "*   What is/are the insight(s) found from the chart?\n",
        "* Will the gained insights help creating a positive business impact?\n",
        "Are there any insights that lead to negative growth? Justify with specific reason.\n",
        "\n",
        "5. You have to create at least 20 logical & meaningful charts having important insights.\n",
        "\n",
        "\n",
        "[ Hints : - Do the Vizualization in  a structured way while following \"UBM\" Rule.\n",
        "\n",
        "U - Univariate Analysis,\n",
        "\n",
        "B - Bivariate Analysis (Numerical - Categorical, Numerical - Numerical, Categorical - Categorical)\n",
        "\n",
        "M - Multivariate Analysis\n",
        " ]\n",
        "\n",
        "\n",
        "\n"
      ],
      "metadata": {
        "id": "ZrxVaUj-hHfC"
      }
    },
    {
      "cell_type": "markdown",
      "source": [
        "# ***Let's Begin !***"
      ],
      "metadata": {
        "id": "O_i_v8NEhb9l"
      }
    },
    {
      "cell_type": "markdown",
      "source": [
        "## ***1. Know Your Data***"
      ],
      "metadata": {
        "id": "HhfV-JJviCcP"
      }
    },
    {
      "cell_type": "markdown",
      "source": [
        "### Import Libraries"
      ],
      "metadata": {
        "id": "Y3lxredqlCYt"
      }
    },
    {
      "cell_type": "code",
      "source": [
        "# Import Libraries\n",
        "import numpy as np\n",
        "import pandas as pd\n",
        "import matplotlib.pyplot as plt\n",
        "import seaborn as sns\n",
        "import statsmodels.api as sm\n",
        "import plotly.express as px"
      ],
      "metadata": {
        "id": "M8Vqi-pPk-HR"
      },
      "execution_count": null,
      "outputs": []
    },
    {
      "cell_type": "markdown",
      "source": [
        "### Dataset Loading"
      ],
      "metadata": {
        "id": "3RnN4peoiCZX"
      }
    },
    {
      "cell_type": "code",
      "source": [
        "# Load Dataset\n",
        "#mounting drive\n",
        "from google.colab import drive\n",
        "drive.mount('/content/drive')\n",
        "filepath=\"/content/drive/MyDrive/Global Terrorism Data.csv\"\n",
        "df= pd.read_csv(filepath,encoding = \"ISO-8859-1\")\n",
        "\n"
      ],
      "metadata": {
        "id": "4CkvbW_SlZ_R"
      },
      "execution_count": null,
      "outputs": []
    },
    {
      "cell_type": "markdown",
      "source": [
        "### Dataset First View"
      ],
      "metadata": {
        "id": "x71ZqKXriCWQ"
      }
    },
    {
      "cell_type": "code",
      "source": [
        "# Dataset First Look\n",
        "df.head()"
      ],
      "metadata": {
        "id": "LWNFOSvLl09H"
      },
      "execution_count": null,
      "outputs": []
    },
    {
      "cell_type": "code",
      "source": [
        "df.tail()"
      ],
      "metadata": {
        "id": "hsIuoLUkdlLI"
      },
      "execution_count": null,
      "outputs": []
    },
    {
      "cell_type": "markdown",
      "source": [
        "### Dataset Rows & Columns count"
      ],
      "metadata": {
        "id": "7hBIi_osiCS2"
      }
    },
    {
      "cell_type": "code",
      "source": [
        "# Dataset Rows & Columns count\n",
        "df.shape"
      ],
      "metadata": {
        "id": "Kllu7SJgmLij"
      },
      "execution_count": null,
      "outputs": []
    },
    {
      "cell_type": "code",
      "source": [
        "df.columns.values"
      ],
      "metadata": {
        "id": "z15If87iOh8B"
      },
      "execution_count": null,
      "outputs": []
    },
    {
      "cell_type": "markdown",
      "source": [
        "### Dataset Information"
      ],
      "metadata": {
        "id": "JlHwYmJAmNHm"
      }
    },
    {
      "cell_type": "code",
      "source": [
        "# Dataset Info\n",
        "df.info"
      ],
      "metadata": {
        "id": "e9hRXRi6meOf"
      },
      "execution_count": null,
      "outputs": []
    },
    {
      "cell_type": "code",
      "source": [
        "df.describe()"
      ],
      "metadata": {
        "id": "LEhbxw0In5P_"
      },
      "execution_count": null,
      "outputs": []
    },
    {
      "cell_type": "markdown",
      "source": [
        "#### Duplicate Values"
      ],
      "metadata": {
        "id": "35m5QtbWiB9F"
      }
    },
    {
      "cell_type": "code",
      "source": [
        "# Dataset Duplicate Value Count\n",
        "len(df[df.duplicated()])"
      ],
      "metadata": {
        "id": "1sLdpKYkmox0"
      },
      "execution_count": null,
      "outputs": []
    },
    {
      "cell_type": "markdown",
      "source": [
        "#### Missing Values/Null Values"
      ],
      "metadata": {
        "id": "PoPl-ycgm1ru"
      }
    },
    {
      "cell_type": "code",
      "source": [
        "# Missing Values/Null Values Count\n",
        "nan_count=df.isnull().sum()\n",
        "#i just want to check how much columns have missing values\n",
        "missing_values=nan_count[nan_count>0]\n",
        "missing_values\n"
      ],
      "metadata": {
        "id": "GgHWkxvamxVg"
      },
      "execution_count": null,
      "outputs": []
    },
    {
      "cell_type": "code",
      "source": [
        "# Visualizing the missing values\n",
        "plt.figure(figsize=(14,6))\n",
        "sns.heatmap(df.isnull(), cbar=False)\n",
        "plt.title('Missing Values Heatmap')\n",
        "plt.show()"
      ],
      "metadata": {
        "id": "c2Cz-3ObNnC4"
      },
      "execution_count": null,
      "outputs": []
    },
    {
      "cell_type": "markdown",
      "source": [
        "### What did you know about your dataset?"
      ],
      "metadata": {
        "id": "H0kj-8xxnORC"
      }
    },
    {
      "cell_type": "markdown",
      "source": [
        "In this dataset, 106 out of 135 columns have missing values, with some columns having more than 90% missing data. This indicates a substantial amount of missing information that requires careful handling during data *analysis"
      ],
      "metadata": {
        "id": "gfoNAAC-nUe_"
      }
    },
    {
      "cell_type": "markdown",
      "source": [
        "## ***2. Understanding Your Variables***"
      ],
      "metadata": {
        "id": "nA9Y7ga8ng1Z"
      }
    },
    {
      "cell_type": "code",
      "source": [
        "# Dataset Columns\n",
        "df.columns.values\n"
      ],
      "metadata": {
        "id": "j7xfkqrt5Ag5"
      },
      "execution_count": null,
      "outputs": []
    },
    {
      "cell_type": "code",
      "source": [
        "df.describe(include='all')"
      ],
      "metadata": {
        "id": "7RctFWPBGBz1"
      },
      "execution_count": null,
      "outputs": []
    },
    {
      "cell_type": "code",
      "source": [
        "# Renaming the column for clarity and consistency\n",
        "# We are renaming the 'old_column_name' to 'new_column_name' to improve data interpretability\n",
        "df.rename(columns={'iyear':'Year','imonth':'Month','iday':\"day\",'gname':'Group','country_txt':'Country','region_txt':'Region','provstate':'State','city':'City','latitude':'latitude',\n",
        "    'longitude':'longitude','summary':'summary','attacktype1_txt':'Attacktype','targtype1_txt':'Targettype','weaptype1_txt':'Weapon','nkill':'kill',\n",
        "     'nwound':'Wound'},inplace=True)"
      ],
      "metadata": {
        "id": "LhdYF1IUGDGl"
      },
      "execution_count": null,
      "outputs": []
    },
    {
      "cell_type": "markdown",
      "source": [
        "### Variables Description"
      ],
      "metadata": {
        "id": "PBTbrJXOngz2"
      }
    },
    {
      "cell_type": "markdown",
      "source": [
        "Year: The year in which the incident occurred.\n",
        "\n",
        "Month: The month in which the incident occurred.\n",
        "\n",
        "Day: The day of the month when the incident.\n",
        "\n",
        "Country: The country where the incident took place.\n",
        "\n",
        "State: The state or province within the country.\n",
        "\n",
        "Region: The geographical region of the incident.\n",
        "\n",
        "City: The city where the incident occurred.\n",
        "\n",
        "Latitude: The latitude coordinate of the incident location.\n",
        "\n",
        "Longitude: The longitude coordinate of the incident location.\n",
        "\n",
        "Attacktype: The type of attack (Assassination, Bombing/Explosion).\n",
        "\n",
        "Kill: The number of people killed in the incident.\n",
        "\n",
        "Wound: The number of people wounded in the incident.\n",
        "\n",
        "Target1: A description of the primary target of the attack.\n",
        "\n",
        "Summary: A brief summary or description of the incident.\n",
        "\n",
        "Group: The group responsible for the attack.\n",
        "\n",
        "Targettype: The type of target that was attacked (Government, Military).\n",
        "\n",
        "Weapon: The weapon or method used in the attack (Explosives, Firearms).\n",
        "\n",
        "Motive: The suspected motive or reason behind the attack.\n",
        "\n",
        "INT_LOG: A variable indicating whether the incident was part of international logistics (0 for no, 1 for yes,-9 for Uknown).\n",
        "\n",
        "INT_IDEO: A variable indicating whether the incident was part of international ideology (0 for no, 1 for yes,-9 for Unknown).\n",
        "\n",
        "Success: A binary variable indicating the success of the attack (0 for unsuccessful, 1 for successful).\n",
        "\n",
        "Individual: A binary variable indicating if the attack was carried out by an individual (0 for no, 1 for yes).\n",
        "\n",
        "Multiple: A binary variable indicating if multiple individuals or groups were involved in the attack (0 for no, 1 for yes).\n",
        "\n",
        "Dbsource: The source of the data.\n",
        "\n",
        "Nkillter: The number of terrorists killed in the incident."
      ],
      "metadata": {
        "id": "aJV4KIxSnxay"
      }
    },
    {
      "cell_type": "markdown",
      "source": [
        "### Check Unique Values for each variable."
      ],
      "metadata": {
        "id": "u3PMJOP6ngxN"
      }
    },
    {
      "cell_type": "code",
      "source": [
        "# Check Unique Values for each variable.\n",
        "for i in df.columns.tolist():\n",
        "  print(\"No. of unique values in \",i,\"is\",df[i].nunique(),\".\")"
      ],
      "metadata": {
        "id": "zms12Yq5n-jE"
      },
      "execution_count": null,
      "outputs": []
    },
    {
      "cell_type": "markdown",
      "source": [
        "## 3. ***Data Wrangling***"
      ],
      "metadata": {
        "id": "dauF4eBmngu3"
      }
    },
    {
      "cell_type": "markdown",
      "source": [
        "### Data Wrangling Code"
      ],
      "metadata": {
        "id": "bKJF3rekwFvQ"
      }
    },
    {
      "cell_type": "code",
      "source": [
        "# Write your code to make your dataset analysis ready.\n",
        "# NaN percentage in each and every columnn of the dataset\n",
        "nan_percentage=(nan_count/len(df))*100\n",
        "nan_percentage"
      ],
      "metadata": {
        "id": "wk-9a2fpoLcV"
      },
      "execution_count": null,
      "outputs": []
    },
    {
      "cell_type": "code",
      "source": [
        "# Identify columns with a high percentage of missing values (>= 50%)\n",
        "column_with_high_nan=nan_percentage[nan_percentage>=50]\n",
        "#Iterate through columns with a high percentage of missing values\n",
        "# and print the column names along with their missing value percentage\n",
        "for key,values in column_with_high_nan.items():\n",
        "  print(key,values) # These are the list of columns with high missing values\n",
        "print(len(column_with_high_nan))"
      ],
      "metadata": {
        "id": "J4ci4f6XGtFO"
      },
      "execution_count": null,
      "outputs": []
    },
    {
      "cell_type": "code",
      "source": [
        "#Identify columns with a  missing values (< 50%)\n",
        "missing_values_less_then_50=nan_percentage[nan_percentage<50]\n",
        "print(missing_values_less_then_50)\n",
        "print(len(missing_values_less_then_50))#these are the columns which has missing vlaue less then 50"
      ],
      "metadata": {
        "id": "OzHdeH2MGwvh"
      },
      "execution_count": null,
      "outputs": []
    },
    {
      "cell_type": "code",
      "source": [
        "#Selecting columns with less missing data and that are relevant for analysis\n",
        "df1=df[['Year','Month','day','Country','State','Region','City','latitude','longitude',\"Attacktype\",'kill','Wound','target1','summary','Group','Targettype','Weapon','motive','INT_LOG','INT_IDEO','success','individual','multiple','dbsource','nkillter']]"
      ],
      "metadata": {
        "id": "aPZ1xAsaG0Ug"
      },
      "execution_count": null,
      "outputs": []
    },
    {
      "cell_type": "code",
      "source": [
        "df1.head()"
      ],
      "metadata": {
        "id": "tjHIVzZp5G-9"
      },
      "execution_count": null,
      "outputs": []
    },
    {
      "cell_type": "code",
      "source": [
        "df1.columns"
      ],
      "metadata": {
        "id": "iEjtkiV25ZXT"
      },
      "execution_count": null,
      "outputs": []
    },
    {
      "cell_type": "code",
      "source": [
        "# Total sum of missing value in our selecting columns in new dataframe\n",
        "df1.isnull().sum()"
      ],
      "metadata": {
        "id": "OvenFKrH5id-"
      },
      "execution_count": null,
      "outputs": []
    },
    {
      "cell_type": "code",
      "source": [
        "df1.describe()"
      ],
      "metadata": {
        "id": "78-9ODzBodSy"
      },
      "execution_count": null,
      "outputs": []
    },
    {
      "cell_type": "code",
      "source": [
        "#identify the columns which has missing value grater the 0\n",
        "df1.isnull().sum()[df1.isnull().sum()>0]"
      ],
      "metadata": {
        "id": "C6zVxrQT5rWr"
      },
      "execution_count": null,
      "outputs": []
    },
    {
      "cell_type": "code",
      "source": [
        "# Handling missing values of the 'kill' column\n",
        "df['kill'].isna().sum()"
      ],
      "metadata": {
        "id": "j4Qp6nEQ5tcT"
      },
      "execution_count": null,
      "outputs": []
    },
    {
      "cell_type": "code",
      "source": [
        "#Drawing the QQ plot to check the df['kill'] is normally distribuated or not\n",
        "sm.qqplot(df1['kill'], line='s')\n",
        "plt.title(\"Q-Q Plot\")\n",
        "plt.show()"
      ],
      "metadata": {
        "id": "fRU-R_Xb5xOt"
      },
      "execution_count": null,
      "outputs": []
    },
    {
      "cell_type": "markdown",
      "source": [
        "This Graph  clearly indicates that the data is not normally Distribuated"
      ],
      "metadata": {
        "id": "wtgpUHw75-nG"
      }
    },
    {
      "cell_type": "code",
      "source": [
        "# Handling missing values in the 'kill' column by replacing them with zeros\n",
        "df1['kill'].fillna(0,inplace=True)\n",
        "#This code snippet converts the 'kill' column values to integers after cleaning.\n",
        "df1['kill'] = df1['kill'].apply(lambda x: int(float(pd.to_numeric(x, errors='coerce'))))"
      ],
      "metadata": {
        "id": "g4rbCcay53Fx"
      },
      "execution_count": null,
      "outputs": []
    },
    {
      "cell_type": "markdown",
      "source": [
        "filling missing values in the \"kill\" column that aligns with the distribution of the data. Given that the majority of values are zero (0th to 50th percentiles),mean of the column is 2.4 and the standard deviation(11.54) is relatively high, a reasonable choice could be to fill missing values with the median, which is 0."
      ],
      "metadata": {
        "id": "q-PvjunU6KaJ"
      }
    },
    {
      "cell_type": "code",
      "source": [
        "# Handling missing values in the 'Wound' column\n",
        "df1['Wound'].isna().sum()"
      ],
      "metadata": {
        "id": "O7ln3lSp6Es5"
      },
      "execution_count": null,
      "outputs": []
    },
    {
      "cell_type": "code",
      "source": [
        "# Handling missing values in the 'kill' column by replacing them with zeros\n",
        "df1['Wound'].fillna(0,inplace=True)\n",
        "#This code snippet converts the 'kill' column values to integers after cleaning.\n",
        "df1['Wound'] = df1['Wound'].apply(lambda x: int(float(pd.to_numeric(x, errors='coerce'))))"
      ],
      "metadata": {
        "id": "cAfDMTPJ6PZG"
      },
      "execution_count": null,
      "outputs": []
    },
    {
      "cell_type": "markdown",
      "source": [
        "filling missing values in the \"wound\" column that aligns with the distribution of the data. Given that the majority of values are zero (0th to 50th percentiles) mean is 3.16 and the standard deviation(35.94) is relatively high, a reasonable choice could be to fill missing values with the median, which is 0"
      ],
      "metadata": {
        "id": "rwrlP5G96YPZ"
      }
    },
    {
      "cell_type": "code",
      "source": [
        "# Handling missing values in the 'nkillter' column by replacing them with zeros\n",
        "df1['nkillter'].fillna(0,inplace=True)"
      ],
      "metadata": {
        "id": "yPf0DTlr6djF"
      },
      "execution_count": null,
      "outputs": []
    },
    {
      "cell_type": "code",
      "source": [
        "# Handling missing values in the 'multiple' column by replacing them with 1\n",
        "df['multiple'].fillna(0,inplace=True)"
      ],
      "metadata": {
        "id": "bAwpV7dl6iks"
      },
      "execution_count": null,
      "outputs": []
    },
    {
      "cell_type": "markdown",
      "source": [
        "multiple column has only one misssing vlaue this column has binary value which is 0,1 fill missing value either with 0 or 1"
      ],
      "metadata": {
        "id": "PfwnmI5-6mLc"
      }
    },
    {
      "cell_type": "code",
      "source": [
        "# Handling missing values in the city,target1 and state  columns\n",
        "print(df1['City'].isna().sum())\n",
        "print(df1['State'].isna().sum())\n",
        "print(df1['target1'].isna().sum())"
      ],
      "metadata": {
        "id": "ZFw-sXBC6nfL"
      },
      "execution_count": null,
      "outputs": []
    },
    {
      "cell_type": "code",
      "source": [
        "# Counting the number of records where 'City' is labeled as 'Unknown'\n",
        "print(len(df1[df1['City']=='Unknown']))\n",
        "# Counting the number of records where 'State' is labeled as 'Unknown'\n",
        "print(len(df1[df1['State']=='Unknown']))\n",
        "# Counting the number of records where 'target1' is labeled as 'Unknown'\n",
        "print(len(df1[df1['target1']=='Unknown']))"
      ],
      "metadata": {
        "id": "YNjwPzTU6uoh"
      },
      "execution_count": null,
      "outputs": []
    },
    {
      "cell_type": "code",
      "source": [
        "# Handling missing values in the city,target1 and state  columns and replacing the missing value with 'Unknown'\n",
        "df1.fillna(value={'City':'Unknown', 'target1': 'Unknown','State':'Unknown'}, inplace=True)"
      ],
      "metadata": {
        "id": "nHL4eTek6zx0"
      },
      "execution_count": null,
      "outputs": []
    },
    {
      "cell_type": "markdown",
      "source": [
        "replasing missing values in the columns 'City', 'State', and 'target1' with the value 'Unknown' because this value appears frequently in those columns."
      ],
      "metadata": {
        "id": "FLQw0kVf61nr"
      }
    },
    {
      "cell_type": "markdown",
      "source": [
        "### What all manipulations have you done and insights you found?"
      ],
      "metadata": {
        "id": "MSa1f5Uengrz"
      }
    },
    {
      "cell_type": "markdown",
      "source": [
        "All manipulations we have done yet.\n",
        "\n",
        "Handling Missing Values:\n",
        "\n",
        "Missing values in the 'kill' column were replaced with zeros. The 'kill' column values were converted to integers after cleaning. Missing values in the 'Wound' column were replaced with zeros. The 'Wound' column values were converted to integers after cleaning. Missing values in the 'nkillter' column were replaced with zeros. Missing values in the 'multiple' column were replaced with zeros. Missing values in the 'City,' 'target1,' and 'State' columns were addressed. Counting Unknown Values:\n",
        "\n",
        "The number of records where 'City' is labeled as 'Unknown' was counted. The number of records where 'State' is labeled as 'Unknown' was counted. The number of records where 'target1' is labeled as 'Unknown' was counted. Handling Missing Values in 'City,' 'target1,' and 'State' Columns:\n",
        "\n",
        "Missing values in the 'City,' 'target1,' and 'State' columns were replaced with 'Unknown.'"
      ],
      "metadata": {
        "id": "LbyXE7I1olp8"
      }
    },
    {
      "cell_type": "markdown",
      "source": [
        "## ***4. Data Vizualization, Storytelling & Experimenting with charts : Understand the relationships between variables***"
      ],
      "metadata": {
        "id": "GF8Ens_Soomf"
      }
    },
    {
      "cell_type": "markdown",
      "source": [
        "#### Chart - 1"
      ],
      "metadata": {
        "id": "0wOQAZs5pc--"
      }
    },
    {
      "cell_type": "code",
      "source": [
        "#data disteribution\n",
        "# this represent the distribution of data on each series in the dataframe\n",
        "# Create histograms to visualize the distribution of data for each series in the DataFrame\n",
        "df1.hist(figsize=(20,10))"
      ],
      "metadata": {
        "id": "7v_ESjsspbW7"
      },
      "execution_count": null,
      "outputs": []
    },
    {
      "cell_type": "code",
      "source": [
        "df1.describe()"
      ],
      "metadata": {
        "id": "Pg0NeNr4G08Z"
      },
      "execution_count": null,
      "outputs": []
    },
    {
      "cell_type": "markdown",
      "source": [
        "##### 1. Why did you pick the specific chart?"
      ],
      "metadata": {
        "id": "K5QZ13OEpz2H"
      }
    },
    {
      "cell_type": "markdown",
      "source": [
        "Histograms were chosen as the specific chart because they are a suitable choice for visualizing the distribution of numeric data. They display how data is distributed across different value ranges, making it easy to identify patterns, central tendencies, and any skewness in the data."
      ],
      "metadata": {
        "id": "XESiWehPqBRc"
      }
    },
    {
      "cell_type": "markdown",
      "source": [
        "##### 2. What is/are the insight(s) found from the chart?"
      ],
      "metadata": {
        "id": "lQ7QKXXCp7Bj"
      }
    },
    {
      "cell_type": "markdown",
      "source": [
        "\n",
        "The insights that can be derived from histograms include:\n",
        "\n",
        "Central Tendency: You can identify the central value (mean, median) of each variable by looking at the peak of the histogram.\n",
        "\n",
        "1. Spread: The width of the histogram gives an idea of the spread or variability of the data.             \n",
        "2. Skewness: The shape of the histogram (symmetrical or skewed) indicates the distribution's skewness (positive or negative).                   \n",
        "3. Outliers: Extreme values or outliers can be observed as values that fall far from the bulk of the data.\n",
        "\n"
      ],
      "metadata": {
        "id": "C_j1G7yiqdRP"
      }
    },
    {
      "cell_type": "markdown",
      "source": [
        "##### 3. Will the gained insights help creating a positive business impact?\n",
        "Are there any insights that lead to negative growth? Justify with specific reason."
      ],
      "metadata": {
        "id": "448CDAPjqfQr"
      }
    },
    {
      "cell_type": "markdown",
      "source": [
        "Positive business impact\n",
        "\n",
        "The insights gained from the histograms can be valuable for various business decisions:\n",
        "\n",
        "1: Market Opportunity: Recognizing countries with high-security challenges can also highlight regions where there is an unmet demand for goods and services. Businesses that can provide products or services to address security-related needs, such as security technology, risk assessment services, or crisis management solutions, may find growth opportunities.\n",
        "\n",
        "2 : Infrastructure Development: Companies involved in infrastructure development, including construction and rebuilding projects in post-conflict regions, can experience growth as these areas rebuild and require critical infrastructure.\n",
        "\n",
        "3 : Security Services: Security firms and organizations providing security services can use this data to identify potential clients or areas where their services are in demand.\n",
        "\n",
        "4 : Travel and Tourism: Companies in the travel and tourism industry can use this data to provide travelers with information about safe destinations and offer guidance on travel security.\n",
        "\n",
        "Negative Business impact\n",
        "\n",
        "1: Market Volatility: Businesses operating in regions prone to security incidents may experience market volatility. Protests, violence, and terrorist attacks can disrupt business operations, leading to supply chain interruptions, decreased consumer confidence, and reduced sales.\n",
        "\n",
        "2: Insurance Costs: Companies operating in regions with security concerns may face higher insurance premiums or limited coverage options. This can increase the cost of doing business and negatively impact profit margins.\n"
      ],
      "metadata": {
        "id": "3cspy4FjqxJW"
      }
    },
    {
      "cell_type": "markdown",
      "source": [
        "#### Chart - 2"
      ],
      "metadata": {
        "id": "KSlN3yHqYklG"
      }
    },
    {
      "cell_type": "code",
      "source": [
        "#idetify years with a higher frequency of attacks?\n",
        "# Get unique years from the 'Year' column\n",
        "year=df['Year'].unique()\n",
        "# Count the number of occurrences of each year and reset the index to create a DataFrame\n",
        "year_count=df['Year'].value_counts().reset_index()\n",
        "# Rename the columns for clarity\n",
        "year_count=year_count.rename(columns={'index':'year','Year':'value'})\n",
        "# Create a bar plot to visualize the number of attacks per year\n",
        "plt.figure(figsize=(12, 8))\n",
        "sns.barplot(x='year',y='value',data=year_count)    # Create the bar plot\n",
        "# Add labels and a title to the plot for clarity\n",
        "plt.xlabel('year')  # X-axis label\n",
        "plt.ylabel('count') # Y-axis label\n",
        "plt.title('per year attack')\n",
        "# Rotate the X-axis labels for better readability\n",
        "plt.xticks(rotation=90)\n",
        "plt.show()\n"
      ],
      "metadata": {
        "id": "nqc4f37_cST5"
      },
      "execution_count": null,
      "outputs": []
    },
    {
      "cell_type": "markdown",
      "source": [
        "##### 1. Why did you pick the specific chart?"
      ],
      "metadata": {
        "id": "t6dVpIINYklI"
      }
    },
    {
      "cell_type": "markdown",
      "source": [
        "The choice of a bar chart aligns with the data's characteristics and the goal of visualizing the distribution of attacks over the years. It provides an easy-to-understand representation that allows for quick comparisons and trend analysis"
      ],
      "metadata": {
        "id": "5aaW0BYyYklI"
      }
    },
    {
      "cell_type": "markdown",
      "source": [
        "##### 2. What is/are the insight(s) found from the chart?"
      ],
      "metadata": {
        "id": "ijmpgYnKYklI"
      }
    },
    {
      "cell_type": "markdown",
      "source": [
        "The chart displaying the frequency of attacks per year provides Years Go Up and Down: Some years have more attacks like in 2014 most of the attack world wide happend , and some have fewer. It's not the same every year.\n",
        "\n",
        "Patterns Change Over Time: If we look closely, we can see that the number of attacks changes over time. Some years are calm, and then there are years with lots of attacks.\n"
      ],
      "metadata": {
        "id": "PSx9atu2YklI"
      }
    },
    {
      "cell_type": "markdown",
      "source": [
        "##### 3. Will the gained insights help creating a positive business impact?\n",
        "Are there any insights that lead to negative growth? Justify with specific reason."
      ],
      "metadata": {
        "id": "-JiQyfWJYklI"
      }
    },
    {
      "cell_type": "markdown",
      "source": [
        "Positive Business Impact:         \n",
        "1. Market Expansion: For businesses considering expansion into regions with a history of security challenges, these insights can inform risk assessments and security planning.\n",
        "2. Investment Decisions: Investors and financial institutions may consider these insights when evaluating opportunities in regions with varying security challenges.\n",
        "\n",
        "Negative Business Impact:\n",
        "\n",
        "1.  If specific years have disproportionately high numbers of attacks, it could indicate negative impacts on local economies and stability.        "
      ],
      "metadata": {
        "id": "BcBbebzrYklV"
      }
    },
    {
      "cell_type": "markdown",
      "source": [
        "#### Chart - 3"
      ],
      "metadata": {
        "id": "EM7whBJCYoAo"
      }
    },
    {
      "cell_type": "code",
      "source": [
        "# Chart - 3 visualization code\n",
        "# Create a cross-tabulation of the 'Year' and 'Region' columns and then plot it as a stacked area plot\n",
        "# This shows the number of terrorist attacks by region over the years\n",
        "pd.crosstab(df1.Year, df1.Region).plot(kind='area',stacked=True,figsize=(20,10))\n",
        "plt.ylabel('No:of Attacks',fontsize=25)  # Y-axis label\n",
        "plt.xlabel(\"Years\",fontsize=25)          # Y-axis label\n",
        "plt.title('Terrorist Activities (Region) In Each Year',fontsize=30) # Title of the plot\n",
        "plt.show()"
      ],
      "metadata": {
        "id": "QDHstgLhdPuE"
      },
      "execution_count": null,
      "outputs": []
    },
    {
      "cell_type": "markdown",
      "source": [
        "##### 1. Why did you pick the specific chart?"
      ],
      "metadata": {
        "id": "fge-S5ZAYoAp"
      }
    },
    {
      "cell_type": "markdown",
      "source": [
        "The choice of an area plot aligns with the data's characteristics and the goal of visualizing how terrorist activities are distributed across regions over a time series. It is an effective choice for this specific analysis as it enables viewers to understand temporal and regional trends simultaneously.\n"
      ],
      "metadata": {
        "id": "5dBItgRVYoAp"
      }
    },
    {
      "cell_type": "markdown",
      "source": [
        "##### 2. What is/are the insight(s) found from the chart?"
      ],
      "metadata": {
        "id": "85gYPyotYoAp"
      }
    },
    {
      "cell_type": "markdown",
      "source": [
        "\n",
        "The chart offers a comprehensive view of how terrorist activity are distributed across regions over time, in this graph we can clearly see that the terrorist activity has significantly increases in Middle East,North America and South Asia during the time frame 2012 to 2017 It can serves as a useful tool for policymakers, security analysts, and researchers to better understand the complex nature of security challenges."
      ],
      "metadata": {
        "id": "4jstXR6OYoAp"
      }
    },
    {
      "cell_type": "markdown",
      "source": [
        "##### 3. Will the gained insights help creating a positive business impact?\n",
        "Are there any insights that lead to negative growth? Justify with specific reason."
      ],
      "metadata": {
        "id": "RoGjAbkUYoAp"
      }
    },
    {
      "cell_type": "markdown",
      "source": [
        "Positive Business Impact:\n",
        "\n",
        "1. Supply Chain Optimization: Companies with global supply chains can use this information to optimize their routes and logistics. Safer regions can be chosen for supply chain paths, reducing the risk of disruptions.\n",
        "2. Market Expansion and Targeting: Understanding the regions with changing patterns of terrorist activities can inform decisions about market expansion\n",
        "3. Terrorism significantly increased in the Middle East and North Africa (MENA) and South Asia regions from 2014 to 2017.Invest in geospatial intelligence to monitor and analyze hotspots of terrorist activity in these regions. This will enable proactive responses and resource allocation.\n",
        "\n",
        "Negative business impacts.\n",
        "\n",
        "1. Unpredictable Patterns: In regions where terrorist activities show unpredictable patterns, businesses may struggle to plan and adapt. Sudden spikes in attacks or shifts in hotspots can lead to market volatility, supply chain disruptions\n",
        "2. Insurance Costs: Operating in high-risk regions can lead to increased insurance premiums or limited coverage options"
      ],
      "metadata": {
        "id": "zfJ8IqMcYoAp"
      }
    },
    {
      "cell_type": "markdown",
      "source": [
        "#### Chart - 4"
      ],
      "metadata": {
        "id": "4Of9eVA-YrdM"
      }
    },
    {
      "cell_type": "code",
      "source": [
        "# Chart - 4 visualization code\n",
        "# Count the occurrences of each country in the 'Country' column,\n",
        "# then reset the index and take the top 10 most frequent countries\n",
        "country_count=df1[['Country']].value_counts().reset_index().head(10)\n",
        "country_count\n",
        "country_count =country_count.rename(columns={0: 'Values'})\n",
        "country_count\n",
        "plt.figure(figsize=(10, 6))\n",
        "sns.barplot(x='Country', y='Values', data=country_count)\n",
        "plt.xlabel('Country') # X-axis label\n",
        "plt.ylabel('Values') # y-axis label\n",
        "plt.title('Most Attack Country')\n",
        "plt.xticks(rotation=60)\n",
        "plt.show()"
      ],
      "metadata": {
        "id": "irlUoxc8YrdO"
      },
      "execution_count": null,
      "outputs": []
    },
    {
      "cell_type": "markdown",
      "source": [
        "##### 1. Why did you pick the specific chart?"
      ],
      "metadata": {
        "id": "iky9q4vBYrdO"
      }
    },
    {
      "cell_type": "markdown",
      "source": [
        "The selection of this chart type is based on the nature of the data and the goal of the visualization.\n",
        "\n",
        "1. Categorical Data: The data being visualized consists of categorical data, specifically, the names of countries. Each country is a distinct category.\n",
        "\n",
        "2. Count or Frequency: The goal is to display the frequency or count of attacks for each country, showing which countries have the highest number of attacks.\n",
        "\n",
        "3. Comparison: Bar plots are excellent for comparing values across different categories. In this case, we want to compare the number of attacks in various countries."
      ],
      "metadata": {
        "id": "aJRCwT6DYrdO"
      }
    },
    {
      "cell_type": "markdown",
      "source": [
        "##### 2. What is/are the insight(s) found from the chart?"
      ],
      "metadata": {
        "id": "F6T5p64dYrdO"
      }
    },
    {
      "cell_type": "markdown",
      "source": [
        "Insights from the chart we can under stand following.\n",
        "\n",
        "The insights found from the chart showing the top  countries with the highest number of recorded attacks are as follows:\n",
        "\n",
        "1: Iraq Dominates: Iraq stands out as the country with the highest number of attacks by a significant margin, indicating a history of conflict or instability.\n",
        "\n",
        "2: Pakistan and Afghanistan: Pakistan and Afghanistan follow Iraq in the ranking, emphasizing their historical involvement in conflicts and security challenges.\n",
        "\n",
        "3: India and Colombia: India and Colombia also feature in the top 10, underscoring regional security concerns and historical conflict situations.\n",
        "\n",
        "4: Middle Eastern Presence: Several Middle Eastern countries are prominent in the list, reflecting the region's complex geopolitical landscape.\n",
        "\n",
        "5: Geopolitical Insights: The chart provides geopolitical insights, highlighting countries where terrorism and security issues have been significant concerns over time.\n",
        "\n",
        "6: Informative Ranking: The chart efficiently ranks countries by the number of attacks, making it a useful tool for policymakers, researchers, and security analysts.\n",
        "\n",
        "Overall, the chart provides a visual snapshot of the countries with the most recorded attacks, offering valuable insights into global and regional security challenges."
      ],
      "metadata": {
        "id": "Xx8WAJvtYrdO"
      }
    },
    {
      "cell_type": "markdown",
      "source": [
        "##### 3. Will the gained insights help creating a positive business impact?\n",
        "Are there any insights that lead to negative growth? Justify with specific reason."
      ],
      "metadata": {
        "id": "y-Ehk30pYrdP"
      }
    },
    {
      "cell_type": "markdown",
      "source": [
        "Gained insights may or may not lead to a positive business impact, depending on the nature of the business and its operations:\n",
        "\n",
        "Positive Business Impact:\n",
        "\n",
        "If a business operates in one of the countries with a high frequency of attacks, the insights can inform security measures, risk management, and contingency planning.\n",
        "Businesses that provide security services or products may find opportunities for growth and support in regions with a high incidence of terrorism.\n",
        "\n",
        "Negative Growth:\n",
        "\n",
        "For businesses operating in regions with a high frequency of terrorist attacks, the insights might highlight increased risks to personnel, assets, and operations.\n",
        "The presence of a business in a country with a high number of attacks could lead to negative growth if not properly managed. It may result in increased security costs and disruptions to operations.\n",
        "\n",
        "Ultimately, the impact on a specific business depends on its industry, location, and the extent to which it is affected by terrorism in the regions where it operates. Therefore, it's crucial for businesses to assess these insights in the context of their unique circumstances and develop appropriate strategies and risk management plans.\n",
        "\n",
        "\n",
        "\n",
        "\n"
      ],
      "metadata": {
        "id": "jLNxxz7MYrdP"
      }
    },
    {
      "cell_type": "markdown",
      "source": [
        "#### Chart - 5"
      ],
      "metadata": {
        "id": "bamQiAODYuh1"
      }
    },
    {
      "cell_type": "code",
      "source": [
        "iraq_data = df1[df1['Country'] == 'Iraq']\n",
        "\n",
        "#Group the data by terrorist group and count the incidents\n",
        "group_counts = iraq_data['Group'].value_counts()\n",
        "\n",
        "# Find the group with the highest activity\n",
        "most_active_group_iraq = group_counts.idxmax()\n",
        "most_active_group_iraq\n"
      ],
      "metadata": {
        "id": "TIJwrbroYuh3"
      },
      "execution_count": null,
      "outputs": []
    },
    {
      "cell_type": "markdown",
      "source": [
        "According to the data most active terror group in Iraq is Unknown the reason behind this is may be the lack of information about terror acttivity data or it might be happend no group took the responcibilty of attacks so that we are neglacting the unknown values in terrorist group column and wanted to check which group is more active in iraq after Unknown who took the responcibilty.\n",
        "\n"
      ],
      "metadata": {
        "id": "GC_MgNdg95oU"
      }
    },
    {
      "cell_type": "code",
      "source": [
        "iraq_data = df1[df1['Country'] == 'Iraq']\n",
        "\n",
        "# Filter out incidents with \"unknown\" group\n",
        "iraq_data = iraq_data[iraq_data['Group'] != 'Unknown']\n",
        "\n",
        "# Group the data by terrorist group and count the incidents\n",
        "group_counts = iraq_data['Group'].value_counts()\n",
        "\n",
        "# Find the group with the highest activity\n",
        "most_active_group = group_counts.idxmax()\n",
        "print(f\"The most active terrorist group in Iraq is {most_active_group} with {group_counts.max()} incidents.\")\n",
        "\n",
        "# Create a DataFrame for the most active group in Iraq\n",
        "active_group_in_country = iraq_data[iraq_data['Group'] == most_active_group]\n",
        "\n",
        "# Create a scatter plot\n",
        "plt.figure(figsize=(10, 6))\n",
        "plt.scatter(active_group_in_country['longitude'], active_group_in_country['latitude'], s=20, alpha=0.5)\n",
        "plt.xlabel('Longitude')  # X-axis label\n",
        "plt.ylabel('Latitude')   # Y-axis label\n",
        "plt.title(f'Scatter Plot of Incidents for {most_active_group} in Iraq')\n",
        "plt.grid(True)\n",
        "\n",
        "plt.show()\n",
        "\n",
        "print(f\"The most active terrorist group is: {most_active_group}\")\n",
        "print(f\"The country with the highest activity for this group is: Iraq\")"
      ],
      "metadata": {
        "id": "YQ4jykvIzmkv"
      },
      "execution_count": null,
      "outputs": []
    },
    {
      "cell_type": "markdown",
      "source": [
        "##### 1. Why did you pick the specific chart?"
      ],
      "metadata": {
        "id": "QHF8YVU7Yuh3"
      }
    },
    {
      "cell_type": "markdown",
      "source": [
        "Because Scatter plot can clearly show us in which particular area in iraq  most Terrorist  activity happend and scatter plot can give the good visulazition bw two numarical variable."
      ],
      "metadata": {
        "id": "dcxuIMRPYuh3"
      }
    },
    {
      "cell_type": "markdown",
      "source": [
        "##### 2. What is/are the insight(s) found from the chart?"
      ],
      "metadata": {
        "id": "GwzvFGzlYuh3"
      }
    },
    {
      "cell_type": "markdown",
      "source": [
        "In this chart we can clearly see the area which has longitude from 42 to 46  and Latitude from 33 to 37 has more terror activity happend by ISiL Group which most danger area in Iraq\n",
        "\n",
        "\n"
      ],
      "metadata": {
        "id": "uyqkiB8YYuh3"
      }
    },
    {
      "cell_type": "markdown",
      "source": [
        "##### 3. Will the gained insights help creating a positive business impact?\n",
        "Are there any insights that lead to negative growth? Justify with specific reason."
      ],
      "metadata": {
        "id": "qYpmQ266Yuh3"
      }
    },
    {
      "cell_type": "markdown",
      "source": [
        "The gained insights might not necessarily lead to a positive business impact but can be crucial for security and risk management:\n",
        "\n",
        "Positive Impact:\n",
        "1. intelligence agency should  monitor and analyze hotspots of terrorist activity in these area. This will enable proactive responses and resource allocation.\n",
        "2. Most active Group in iraq is ISIL intelligence agency can track and disrupt the operations of these groups, dismantling their networks and preventing attacks.\n",
        "\n",
        "3. Businesses operating in Iraq or nearby regions can use this information to assess security risks and implement appropriate security measures to protect their personnel and assets.\n",
        "\n",
        "Negative Growth:\n",
        "\n",
        "The presence of a highly active terrorist group in a region can lead to negative growth due to increased security costs, potential disruptions to operations, and reputational risks.\n",
        "\n",
        "It's crucial for businesses to be aware of such security challenges and have risk mitigation strategies in place to address potential negative impacts.\n",
        "\n",
        "In summary, while the insights from the scatter plot may not directly result in positive business growth, they are essential for risk assessment and security planning, which are critical for maintaining stability and minimizing negative impacts in regions affected by terrorism.\n",
        "\n",
        "\n",
        "\n",
        "\n",
        "\n"
      ],
      "metadata": {
        "id": "_WtzZ_hCYuh4"
      }
    },
    {
      "cell_type": "markdown",
      "source": [
        "Chart-6"
      ],
      "metadata": {
        "id": "1TM_zeF0coPw"
      }
    },
    {
      "cell_type": "code",
      "source": [
        "# Identifying the Most Active Terrorist Groups in the World\n",
        "##df1['Group'].value_counts() counts the occurrences of each unique terrorist group.\n",
        "most_active_group=df1['Group'].value_counts().reset_index().head(11)\n",
        "most_active_group=most_active_group.rename(columns={'index': 'Group','Group':'values'})\n",
        "#Droping the first row of the dataframe most_active_group\n",
        "#most_active_group.drop(0) this code wiil drop the first row from the dataframe\n",
        "most_active_group= most_active_group.drop(0)\n",
        "most_active_group.reset_index(drop=True,inplace=True)\n",
        "#idetify the most active group\n",
        "plt.figure(figsize=(12,6))\n",
        "sns.barplot(x='Group',y='values',data=most_active_group)\n",
        "plt.xlabel('Terrorist Group')\n",
        "plt.ylabel('Number of Attack Attempt')\n",
        "plt.xticks(rotation=90)\n",
        "\n",
        "plt.title('Most active Group')"
      ],
      "metadata": {
        "id": "2nCgaStVciBv"
      },
      "execution_count": null,
      "outputs": []
    },
    {
      "cell_type": "markdown",
      "source": [
        "##### 1. Why did you pick the specific chart?"
      ],
      "metadata": {
        "id": "LGxcvoWYdSQ4"
      }
    },
    {
      "cell_type": "markdown",
      "source": [
        "The primary goal of this chart is to compare different terrorist groups based on their activity levels (number of attack attempts). Bar plots excel at visualizing and comparing data across categories, making them ideal for this purpose."
      ],
      "metadata": {
        "id": "FBWychbtdVUS"
      }
    },
    {
      "cell_type": "markdown",
      "source": [
        "##### 2. What is/are the insight(s) found from the chart?"
      ],
      "metadata": {
        "id": "-fbVRfWzdu2W"
      }
    },
    {
      "cell_type": "markdown",
      "source": [
        "The most active terrorist groups during the analyzed period, which are characterized by a high number of recorded attack attempts.\n",
        "\n",
        "1. Taliban: With 7,478 recorded attack attempts, the Taliban is the most active terrorist group during the analyzed period\n",
        "2. Islamic State of Iraq and the Levant (ISIL): ISIL ranks second in activity, with 5,613 recorded attack attempts.\n",
        "3. Shining Path (SL): The Shining Path group is among the top three most active groups, with 4,555 recorded attack attempts\n"
      ],
      "metadata": {
        "id": "cw3BGAVJd9mR"
      }
    },
    {
      "cell_type": "markdown",
      "source": [
        "##### 3. Will the gained insights help creating a positive business impact?\n",
        "Are there any insights that lead to negative growth? Justify with specific reason."
      ],
      "metadata": {
        "id": "ZXqhw0VTeCdt"
      }
    },
    {
      "cell_type": "markdown",
      "source": [
        "Positive Business Impact\n",
        "1. Resource Allocation: Counter-terrorism agencies can allocate their resources more effectively by focusing their efforts on monitoring, infiltrating, and disrupting the activities of the most active terrorist groups.\n",
        "2. Intelligence Gathering: The chart provides a clear picture of which groups are the most prolific in terms of attack attempts. Counter-terrorism units can prioritize intelligence gathering and analysis related to these groups, enabling them to stay ahead of potential threats.\n",
        "3. International Cooperation: The insights from this chart can facilitate international cooperation and intelligence sharing among countries and organizations. Active groups often operate across borders, making cross-border collaboration essential\n",
        "\n",
        "Neagative Business Impact\n",
        "\n",
        "While the chart provides insights into the most active terrorist groups, it doesn't directly indicate negative growth."
      ],
      "metadata": {
        "id": "knrMhmEyeDhW"
      }
    },
    {
      "cell_type": "markdown",
      "source": [
        "#### Chart - 7"
      ],
      "metadata": {
        "id": "OH-pJp9IphqM"
      }
    },
    {
      "cell_type": "code",
      "source": [
        "# Chart - 7 visualization code\n",
        "#which group has killed the most people in attack\n",
        "df2=df1.groupby(['Group'])[['kill','Wound']].sum().sort_values(by='kill',ascending=False).reset_index().head(10)\n",
        "df2 = df2.drop(0)\n",
        "plt.figure(figsize=(15,10))\n",
        "sns.barplot(x='Group',y='kill',data=df2)\n",
        "plt.xlabel('Group name')\n",
        "plt.ylabel('Kill')\n",
        "plt.title('Group which killed hieghest people')\n",
        "plt.xticks(rotation=90)\n",
        "plt.show()"
      ],
      "metadata": {
        "id": "bC8tPxueigaw"
      },
      "execution_count": null,
      "outputs": []
    },
    {
      "cell_type": "markdown",
      "source": [
        "##### 1. Why did you pick the specific chart?"
      ],
      "metadata": {
        "id": "bbFf2-_FphqN"
      }
    },
    {
      "cell_type": "markdown",
      "source": [
        "The primary goal of this chart is to compare different terrorist groups based on their activity level how much people they have killed. Bar plots excel at visualizing and comparing data across categories, making them ideal for this purpose."
      ],
      "metadata": {
        "id": "loh7H2nzphqN"
      }
    },
    {
      "cell_type": "markdown",
      "source": [
        "##### 2. What is/are the insight(s) found from the chart?"
      ],
      "metadata": {
        "id": "_ouA3fa0phqN"
      }
    },
    {
      "cell_type": "markdown",
      "source": [
        "Insights from the chart:\n",
        "\n",
        "ISIL is the most dangerous terrorist group with killing highest number of people Tailban and Boko-Hram on rank secound and Third in our chart if this group give threats then counter terrorism agency need to take it seriously"
      ],
      "metadata": {
        "id": "VECbqPI7phqN"
      }
    },
    {
      "cell_type": "markdown",
      "source": [
        "##### 3. Will the gained insights help creating a positive business impact?\n",
        "Are there any insights that lead to negative growth? Justify with specific reason."
      ],
      "metadata": {
        "id": "Seke61FWphqN"
      }
    },
    {
      "cell_type": "markdown",
      "source": [
        "The gained insights might not necessarily lead to a positive business impact, but they are crucial for risk assessment and security planning:\n",
        "\n",
        "Positive Impact:\n",
        "\n",
        "1. The group(Islamic State of Iraq and the Levant (ISIL),Taliban) which killed highest number of people active in particular region then the Organizations offering counter-terrorism training and consulting services may see growth in demand. Businesses, especially those with international operations, may seek expert guidance to enhance their security\n",
        "Negative Growth:\n",
        "\n",
        "1. The presence of such deadly terrorist groups can lead to negative growth due to increased security costs, potential disruptions to operations, and reputational risks.\n",
        "2. Failure to address the threat posed by these groups could result in severe consequences, including harm to personnel and damage to assets.\n",
        "\n",
        "In summary, the insights from the bar chart are essential for understanding the impact of terrorist groups and are critical for risk assessment and security planning. Businesses operating in regions where these groups are active should use this information to inform their security strategies and risk management efforts."
      ],
      "metadata": {
        "id": "DW4_bGpfphqN"
      }
    },
    {
      "cell_type": "markdown",
      "source": [
        "#### Chart - 8"
      ],
      "metadata": {
        "id": "1uOEbaa8_cKu"
      }
    },
    {
      "cell_type": "code",
      "source": [
        "num_attack_df1 = df1.groupby('Year').size()\n",
        "num_attack_df1.name = \"number of attacks\"\n",
        "num_attack_df1.head()\n",
        "#We group terrorist attacks by year and the number of persons killed\n",
        "terroristtrends = df1.groupby('Year').agg({'kill':'sum','Wound':'sum'})\n",
        "terroristtrends = pd.concat([terroristtrends,num_attack_df1],axis=1)\n",
        "terroristtrends.head()\n",
        "# Let's create a new column composed by dead and wounded persons by year named victims\n",
        "terroristtrends['victims']=terroristtrends['kill']+terroristtrends['Wound']\n",
        "fig = px.line(terroristtrends,x=terroristtrends.index, y='victims', title='Terrorist attacks trends',template='plotly_dark')\n",
        "fig.data[0].name=\"number of victims\"\n",
        "fig.update_traces(showlegend=True)\n",
        "fig.add_scatter(x = terroristtrends.index, y = terroristtrends['number of attacks'], mode ='lines',name='number of attacks')\n",
        "\n",
        "\n",
        "fig.update_layout(xaxis_title='Year',yaxis_title='Terrorism Trends')\n",
        "fig.show()"
      ],
      "metadata": {
        "id": "MnyKvf_-_gYX"
      },
      "execution_count": null,
      "outputs": []
    },
    {
      "cell_type": "markdown",
      "source": [
        "##### 1. Why did you pick the specific chart?"
      ],
      "metadata": {
        "id": "pf6aecST_nys"
      }
    },
    {
      "cell_type": "markdown",
      "source": [
        " The line chart depicting terrorism attack trends over the years, was selected for several reasons.\n",
        " 1. Temporal Analysis: The primary objective is to analyze how terrorist attacks have evolved over time (by year). A line chart is well-suited for visualizing trends and changes in data over a continuous timeline.\n",
        " 2. Multiple Data Series: The chart accommodates multiple data series (in this case, the number of victims and the number of attacks) on the same graph. This allows for easy comparison of two related but distinct aspects of terrorist incidents."
      ],
      "metadata": {
        "id": "Qsob4PQh_s1D"
      }
    },
    {
      "cell_type": "markdown",
      "source": [
        "##### 2. What is/are the insight(s) found from the chart?"
      ],
      "metadata": {
        "id": "VIFLn-To_wSw"
      }
    },
    {
      "cell_type": "markdown",
      "source": [
        "Insights\n",
        "\n",
        "1. Overall Increase in Attacks: The chart reveals that the total number of terrorist attacks has generally increased over the years, particularly from the mid-2000s onwards. This suggests a rising trend in global terrorism incidents.\n",
        "2. Fluctuations in Victims: The line representing the number of victims (combining those killed and wounded) from 1970 to 2017 most number of victim of Terrorism are bw the years 2012 to 2017 ,the years 2014 experienced more lethal attacks.\n",
        "3. Correlation between Attacks and Victims: There appears to be a correlation between the number of attacks and the number of victims. When the number of attacks increases, the number of victims also tends to rise"
      ],
      "metadata": {
        "id": "0sA3xjCY_0T3"
      }
    },
    {
      "cell_type": "markdown",
      "source": [
        "##### 3. Will the gained insights help creating a positive business impact?\n",
        "Are there any insights that lead to negative growth? Justify with specific reason."
      ],
      "metadata": {
        "id": "vqaF5Qh9_6IT"
      }
    },
    {
      "cell_type": "markdown",
      "source": [
        "The gained insights can be valuable for various purposes, including security, risk assessment, and policy development:\n",
        "\n",
        "Positive Impact:\n",
        "\n",
        "1. Businesses and organizations operating in regions or industries prone to terrorism can use this information to assess the security risks they face and develop strategies to mitigate these risks.\n",
        "2. Government agencies and security organizations can use this data to allocate resources effectively and enhance counterterrorism efforts.\n",
        "\n",
        "Negative Growth:\n",
        "\n",
        "1. The positive correlation between the number of attacks and the number of victims implies that an increase in terrorist attacks often leads to a higher number of casualties. This could have negative implications for businesses and regions experiencing such spikes.\n",
        "2. Negative growth may occur if a business operates in an area with a significant increase in terrorist attacks, as it may lead to higher security costs, operational disruptions, and potential harm to personnel and assets.\n",
        "\n",
        "In summary, the insights gained from the chart provide a historical perspective on terrorism trends. While they are crucial for understanding the security landscape, they also highlight the potential risks and challenges that businesses and organizations may face in regions affected by terrorism.\n",
        "\n",
        "\n",
        "\n",
        "\n"
      ],
      "metadata": {
        "id": "6lG1GR3o_-sU"
      }
    },
    {
      "cell_type": "markdown",
      "source": [
        "#### Chart - 9"
      ],
      "metadata": {
        "id": "PIIx-8_IphqN"
      }
    },
    {
      "cell_type": "code",
      "source": [
        "#identify the most common used weapon in Terrorism\n",
        "#autopct='%1.1f%%' it shows the percentage in pie chart\n",
        "df1.value_counts('Weapon').head().plot(kind='pie',figsize=(10,6),autopct='%1.1f%%')"
      ],
      "metadata": {
        "id": "2rEjRLbpxHpd"
      },
      "execution_count": null,
      "outputs": []
    },
    {
      "cell_type": "markdown",
      "source": [
        "##### 1. Why did you pick the specific chart?"
      ],
      "metadata": {
        "id": "t27r6nlMphqO"
      }
    },
    {
      "cell_type": "markdown",
      "source": [
        "1. Clear Comparison: A pie chart provides a clear and concise way to compare the proportions of different categories (in this case, weapon types). It allows viewers to easily see the relative distribution of each category at a glance.\n",
        "\n",
        "2. Percentage Representation: Pie charts represent data as percentages of the whole, making it straightforward to understand the proportion of each weapon type in relation to the total number of incidents."
      ],
      "metadata": {
        "id": "iv6ro40sphqO"
      }
    },
    {
      "cell_type": "markdown",
      "source": [
        "##### 2. What is/are the insight(s) found from the chart?"
      ],
      "metadata": {
        "id": "r2jJGEOYphqO"
      }
    },
    {
      "cell_type": "markdown",
      "source": [
        "Insights:\n",
        "\n",
        "1. Dominance of Explosives: The most striking insight is that explosives are the most commonly used weapon type around 51% in terrorist incidents\n",
        "2. Significant Use of Firearms: Firearms are the second most frequently used weapon category around 32% although they are notably smaller in proportion compared to explosives.\n",
        "3. Use of Unknown Weapons: The presence of an \"Unknown\" category highlights the challenge of identifying the specific weapon type in some incidents. This emphasizes the importance of improving data accuracy and intelligence in counter-terrorism efforts.\n",
        "4. Incendiary Devices and Melee Weapons: Incendiary devices and melee weapons represent smaller but still significant portions of the chart. This indicates that these weapon types are used in a notable number of incidents."
      ],
      "metadata": {
        "id": "Po6ZPi4hphqO"
      }
    },
    {
      "cell_type": "markdown",
      "source": [
        "##### 3. Will the gained insights help creating a positive business impact?\n",
        "Are there any insights that lead to negative growth? Justify with specific reason."
      ],
      "metadata": {
        "id": "b0JNsNcRphqO"
      }
    },
    {
      "cell_type": "markdown",
      "source": [
        "Positive Business Impcts:\n",
        "\n",
        "1. Security Service Providers: Companies that offer security services, including those specializing in explosives detection, firearm security, and threat assessment, may see increased demand for their expertise and solutions.\n",
        "2. Intelligence Gathering: Counter-terrorism departments must gather intelligence on terrorist organizations, their tactics, and their access to different weapon types. This information helps in understanding potential threats and planning counter-measures.\n",
        "3. Explosives Detection: Invest in advanced explosives detection technology and equipment to identify and neutralize explosive threats. This includes bomb-sniffing dogs, X-ray scanners, and chemical detectors.\n",
        "I4. ncendiary Device Detection: Develop capabilities for detecting and neutralizing incendiary devices, particularly in public places where fires can cause significant damage.\n",
        "\n",
        "Negative Impact:\n",
        "\n",
        "1. Disruption of Operations: Acts of terrorism involving weapons, such as bombings or shootings, can disrupt business operations. This disruption may result in physical damage to facilities, loss of productivity, and supply chain interruptions.\n",
        "2. Tourism Downturn: Regions affected by violent conflicts or terrorism often experience a decline in tourism. This can negatively impact businesses in the tourism and hospitality sectors, including hotels, restaurants, and entertainment venues."
      ],
      "metadata": {
        "id": "xvSq8iUTphqO"
      }
    },
    {
      "cell_type": "markdown",
      "source": [
        "#### Chart - 10"
      ],
      "metadata": {
        "id": "BZR9WyysphqO"
      }
    },
    {
      "cell_type": "code",
      "source": [
        "# Chart - 9 visualization code\n",
        "# What is the most common target type,and percentage\n",
        "df1.value_counts('Targettype').head().plot(kind='pie',figsize=(10,8),autopct='%1.1f%%')"
      ],
      "metadata": {
        "id": "TdPTWpAVphqO"
      },
      "execution_count": null,
      "outputs": []
    },
    {
      "cell_type": "markdown",
      "source": [
        "##### 1. Why did you pick the specific chart?"
      ],
      "metadata": {
        "id": "jj7wYXLtphqO"
      }
    },
    {
      "cell_type": "markdown",
      "source": [
        "1. Clear Comparison: A pie chart provides a clear and concise way to compare the proportions of different categories (in this case, weapon types). It allows viewers to easily see the relative distribution of each category at a glance.\n",
        "\n",
        "2. Percentage Representation: Pie charts represent data as percentages of the whole, making it straightforward to understand the proportion of each weapon type in relation to the total number of incidents."
      ],
      "metadata": {
        "id": "Ob8u6rCTphqO"
      }
    },
    {
      "cell_type": "markdown",
      "source": [
        "##### 2. What is/are the insight(s) found from the chart?"
      ],
      "metadata": {
        "id": "eZrbJ2SmphqO"
      }
    },
    {
      "cell_type": "markdown",
      "source": [
        "Insights:\n",
        "\n",
        "1. Private Citizens & Property Predominance: The most significant insight is that attacks on private citizens and property constitute the largest share around 31% of terrorist incidents. This suggests that terrorists often target civilians and civilian infrastructure.\n",
        "2. Military and Police Attacks: Military and police targets also account for a substantial portion of terrorist attacks. This highlights the vulnerability of security forces and their involvement in counter-terrorism efforts.\n",
        "3. Government and Business Targets: Government (General) and Business targets follow closely in terms of attack frequency."
      ],
      "metadata": {
        "id": "mZtgC_hjphqO"
      }
    },
    {
      "cell_type": "markdown",
      "source": [
        "##### 3. Will the gained insights help creating a positive business impact?\n",
        "Are there any insights that lead to negative growth? Justify with specific reason."
      ],
      "metadata": {
        "id": "rFu4xreNphqO"
      }
    },
    {
      "cell_type": "markdown",
      "source": [
        "Impact\n",
        "\n",
        "1. Private Citizens & Property are the most frequently targeted Prioritize threat assessments for civilian areas, critical infrastructure, and public spaces to enhance security measures and protect civilians.\n",
        "2. Security Investments: Businesses can allocate resources more effectively for security measures. For example, businesses operating in areas with a high risk of attacks on private citizens can invest in enhanced security for employees and customers.\n",
        "3. Intelligence Gathering: Data on target types can guide intelligence-gathering efforts. Agencies can focus on monitoring and infiltrating groups that have a history of targeting specific sectors."
      ],
      "metadata": {
        "id": "ey_0qi68phqO"
      }
    },
    {
      "cell_type": "markdown",
      "source": [
        "#### Chart - 11 - Correlation Heatmap"
      ],
      "metadata": {
        "id": "NC_X3p0fY2L0"
      }
    },
    {
      "cell_type": "code",
      "source": [
        "# Correlation Heatmap visualization code\n",
        "plt.figure(figsize=(15,10))\n",
        "#this show how much related one perameter to the other in the data set\n",
        "sns.heatmap(np.round(df1.corr(),2),annot=True, cmap='BuPu')"
      ],
      "metadata": {
        "id": "xyC9zolEZNRQ"
      },
      "execution_count": null,
      "outputs": []
    },
    {
      "cell_type": "markdown",
      "source": [
        "##### 1. Why did you pick the specific chart?"
      ],
      "metadata": {
        "id": "UV0SzAkaZNRQ"
      }
    },
    {
      "cell_type": "markdown",
      "source": [
        "1. Correlation Exploration: A correlation heatmap is specifically designed to display the correlation coefficients between pairs of variables in a dataset.\n",
        "2. Numeric Data: Heatmaps are most suitable for datasets with numeric data, in a dataset like the Global Terrorism Database (GTD), where many numeric attributes are present.\n",
        "3. Annotated Values: The inclusion of annotated values within each cell of the heatmap provides precise correlation coefficients"
      ],
      "metadata": {
        "id": "DVPuT8LYZNRQ"
      }
    },
    {
      "cell_type": "markdown",
      "source": [
        "##### 2. What is/are the insight(s) found from the chart?"
      ],
      "metadata": {
        "id": "YPEH6qLeZNRQ"
      }
    },
    {
      "cell_type": "markdown",
      "source": [
        "Insights:\n",
        "\n",
        "1. Geographical Trends: The \"latitude\" and \"longitude\" variables show negative correlations with other variables, indicating that specific geographic coordinates may not be strongly correlated with attack-related factors.\n",
        "2. Fatalities and Injuries: The \"kill\" variable is positively correlated with the \"Wound\" (number of injuries) variable, indicating that when number of kill and increased then number of injured people increases\n",
        "3. Terrorist Kill and civilian kill- The kill variabel is positively correlated with the 'nkillter'(Terrorist killed) column which show that the when number of civilian killing increases then number of Terrorist kill also incrases"
      ],
      "metadata": {
        "id": "bfSqtnDqZNRR"
      }
    },
    {
      "cell_type": "markdown",
      "source": [
        "#### Chart - 12 - Pair Plot"
      ],
      "metadata": {
        "id": "q29F0dvdveiT"
      }
    },
    {
      "cell_type": "code",
      "source": [
        "# Pair Plot visualization code\n",
        "# Select the columns of interest for the pair plot\n",
        "columns_of_interest = [ 'kill','Wound','nkillter',]\n",
        "#Create a subset DataFrame with the selected columns\n",
        "subset_df = df1[columns_of_interest]\n",
        "\n",
        "# Create a pair plot using seaborn\n",
        "sns.pairplot(subset_df)\n",
        "plt.show()\n"
      ],
      "metadata": {
        "id": "o58-TEIhveiU"
      },
      "execution_count": null,
      "outputs": []
    },
    {
      "cell_type": "markdown",
      "source": [
        "##### 1. Why did you pick the specific chart?"
      ],
      "metadata": {
        "id": "EXh0U9oCveiU"
      }
    },
    {
      "cell_type": "markdown",
      "source": [
        "1. Pair plots are primarily used to gain insights into relationships between variables. They provide a visual representation of pairwise interactions, making it easier to identify patterns and correlations\n",
        "2. Multivariate Analysis: Pair plots are particularly useful when dealing with multiple variables (columns) in a dataset. it allow us to visualize how each variable relates to every other variable, providing a comprehensive view of data relationships."
      ],
      "metadata": {
        "id": "eMmPjTByveiU"
      }
    },
    {
      "cell_type": "markdown",
      "source": [
        "##### 2. What is/are the insight(s) found from the chart?"
      ],
      "metadata": {
        "id": "22aHeOlLveiV"
      }
    },
    {
      "cell_type": "markdown",
      "source": [
        "Insights.\n",
        "1. nkillter and kill-There is a digonally upward trend in these columnn which means  the nkillter(Terrorist killed) and kill column are positivly correlated\n",
        "2. wound and kill - there is digonally little upword trend in these column which means the wound (injured) and the kill column has positivly correleted\n",
        "3. 3.Distribution Shapes: The graph of kill,wound, nkillter doesn't show the normal distribuation it means that the outliers are present in these columns"
      ],
      "metadata": {
        "id": "uPQ8RGwHveiV"
      }
    },
    {
      "cell_type": "markdown",
      "source": [
        "## **5. Solution to Business Objective**"
      ],
      "metadata": {
        "id": "JcMwzZxoAimU"
      }
    },
    {
      "cell_type": "markdown",
      "source": [
        "#### What do you suggest the client to achieve Business Objective ?\n"
      ],
      "metadata": {
        "id": "8G2x9gOozGDZ"
      }
    },
    {
      "cell_type": "markdown",
      "source": [
        "1. Geospatial Intelligence: Terrorism significantly increased in the Middle East and North Africa and South Asia regions from 2014 to 2017\n",
        "\n",
        "Solution: Invest in geospatial intelligence to monitor and analyze hotspots of terrorist activity in these regions. This will enable proactive responses and resource allocation.\n",
        "2. Targeted Threat Assessment: Private Citizens & Property are the most frequently targeted.\n",
        "\n",
        "Solution: Prioritize threat assessments for civilian areas, critical infrastructure, and public spaces to enhance security measures and protect civilians.\n",
        "3. Focus on Active Groups:Identify and monitor the most active terrorist groups, such as Taliban, ISIL, and Boko Haram.\n",
        "\n",
        "Solution: Allocate intelligence resources to track and disrupt the operations of these groups, dismantling their networks and preventing attacks.\n",
        "4. Weapon and Attack Type Analysis:Explosives and firearms are the most commonly used weapons in attacks.\n",
        "\n",
        "Solution: Enhance border security and implement stricter controls on firearms and explosives to reduce the availability of these weapons to terrorists.\n",
        "5. Cross-Agency Collaboration:\n",
        "\n",
        "Solution: Encourage collaboration and information sharing between national and international counter-terrorism agencies, promoting a coordinated response to global threats.\n",
        "6. Public Awareness:\n",
        "\n",
        "Solution: Educate the public about recognizing signs of radicalization and reporting suspicious activities to law enforcement."
      ],
      "metadata": {
        "id": "pASKb0qOza21"
      }
    },
    {
      "cell_type": "markdown",
      "source": [
        "# **Conclusion**"
      ],
      "metadata": {
        "id": "gCX9965dhzqZ"
      }
    },
    {
      "cell_type": "markdown",
      "source": [
        "1. Trends: Terrorism has evolved over the years, with a significant increase in incidents from 2012 to 2017.\n",
        "2. In 2014 number of terrorist activity was highest hence, casuality was also highest\n",
        "3. Terrorism significantly increased in the Middle East , North Africa and South Asia regions after 2010\n",
        "4. Most Affected Country : Iraq,Pakistan,Afganistan, india, Columbia are the most affected country by Terrorism  with the highest number of attacks by a significant margin, indicating a history of conflict or instability.\n",
        "5. Active Groups:Top Most active terrorist groups in the world  such as Taliban followed by ISIL and Shinning Path. Counter Terrorism department can Monitoring and disrupting the operations of these active terrorist groups\n",
        "6. Weapon and Attack Type: Explosives and firearms are commonly used in attacks.controls on these weapons can reduce their availability to terrorists.\n",
        "7. Target identification: Private Citizens & Property  are the most frequently target by the terrorist group .hence it shows that the target on privat citizens is easy and it can do more damage apart from private citizens milatries are the secound top most target by the terrorist group\n"
      ],
      "metadata": {
        "id": "Fjb1IsQkh3yE"
      }
    },
    {
      "cell_type": "markdown",
      "source": [
        "### ***Hurrah! You have successfully completed your EDA Capstone Project !!!***"
      ],
      "metadata": {
        "id": "gIfDvo9L0UH2"
      }
    }
  ]
}